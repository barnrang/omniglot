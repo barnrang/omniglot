{
 "cells": [
  {
   "cell_type": "code",
   "execution_count": 1,
   "metadata": {},
   "outputs": [
    {
     "name": "stderr",
     "output_type": "stream",
     "text": [
      "C:\\Anaconda\\envs\\chatbot\\lib\\site-packages\\h5py\\__init__.py:36: FutureWarning: Conversion of the second argument of issubdtype from `float` to `np.floating` is deprecated. In future, it will be treated as `np.float64 == np.dtype(float).type`.\n",
      "  from ._conv import register_converters as _register_converters\n",
      "Using TensorFlow backend.\n"
     ]
    }
   ],
   "source": [
    "from keras.utils import np_utils\n",
    "from keras import callbacks as cb\n",
    "from keras.optimizers import Adam\n",
    "from keras.models import load_model, Model\n",
    "from keras.layers import *\n",
    "from keras.models import Sequential\n",
    "from keras import regularizers as rg\n",
    "from keras.preprocessing.image import ImageDataGenerator\n",
    "from keras import backend as K\n",
    "from sklearn.preprocessing import LabelBinarizer\n",
    "\n",
    "import numpy as np\n",
    "import matplotlib.pyplot as plt\n",
    "import matplotlib.image as img\n",
    "import random\n",
    "from python.dataloader import loader\n",
    "%matplotlib inline\n",
    "%load_ext autoreload\n",
    "%autoreload 2"
   ]
  },
  {
   "cell_type": "code",
   "execution_count": 2,
   "metadata": {},
   "outputs": [
    {
     "name": "stderr",
     "output_type": "stream",
     "text": [
      "100%|█████████████████████████████████████████████████████████████████████████████████████████████████████████████████████████████████████████████████████████████████████████████| 30/30 [00:09<00:00,  3.03it/s]\n"
     ]
    }
   ],
   "source": [
    "images, labels = zip(*list(loader('python/images_background')))\n",
    "images = np.expand_dims(images, axis=-1)"
   ]
  },
  {
   "cell_type": "code",
   "execution_count": 3,
   "metadata": {},
   "outputs": [
    {
     "data": {
      "text/plain": [
       "(('Alphabet_of_the_Magi', 'character01'), (105, 105, 1))"
      ]
     },
     "execution_count": 3,
     "metadata": {},
     "output_type": "execute_result"
    }
   ],
   "source": [
    "labels[0], images[0].shape"
   ]
  },
  {
   "cell_type": "code",
   "execution_count": 4,
   "metadata": {},
   "outputs": [
    {
     "data": {
      "text/plain": [
       "<matplotlib.image.AxesImage at 0x1ffe2326048>"
      ]
     },
     "execution_count": 4,
     "metadata": {},
     "output_type": "execute_result"
    },
    {
     "data": {
      "image/png": "[encoded data removed]",
      "text/plain": [
       "<matplotlib.figure.Figure at 0x1ffde2944a8>"
      ]
     },
     "metadata": {},
     "output_type": "display_data"
    }
   ],
   "source": [
    "plt.imshow(np.squeeze(images[0]))"
   ]
  },
  {
   "cell_type": "code",
   "execution_count": 5,
   "metadata": {
    "collapsed": true
   },
   "outputs": [],
   "source": [
    "main_labels, sub_labels= [x[0] for x in labels], [x[1] for x in labels]"
   ]
  },
  {
   "cell_type": "code",
   "execution_count": 6,
   "metadata": {
    "collapsed": true
   },
   "outputs": [],
   "source": [
    "encoder = LabelBinarizer()\n",
    "enc_main_labels = encoder.fit_transform(main_labels)\n",
    "output_num = len(np.unique(main_labels))"
   ]
  },
  {
   "cell_type": "code",
   "execution_count": 7,
   "metadata": {
    "collapsed": true
   },
   "outputs": [],
   "source": [
    "def conv_model():\n",
    "    inp = Input(shape=(105, 105, 1))\n",
    "    x = Conv2D(kernel_size=(3,3), filters=32, padding='valid', activation='relu')(inp)\n",
    "    x = MaxPooling2D()(x)\n",
    "    x = Conv2D(kernel_size=(3,3), filters=128, activation='relu')(x)\n",
    "    x = MaxPooling2D()(x)\n",
    "    x = Conv2D(kernel_size=(5,5), strides=(2,2), filters=128, activation='relu')(x)\n",
    "    x = MaxPooling2D()(x)\n",
    "    y = Conv2D(kernel_size=(5,5), strides=(2,2), filters=128, activation='relu')(x)\n",
    "    model = Model(inputs=inp, outputs=y)\n",
    "    return model\n",
    "\n",
    "def class_model(inp):\n",
    "    x = Flatten()(inp)\n",
    "    x = BatchNormalization()(x)\n",
    "    x = Dense(128, activation='relu')(x)\n",
    "    x = Dense(output_num, activation='softmax')(x)\n",
    "    return x"
   ]
  },
  {
   "cell_type": "code",
   "execution_count": 8,
   "metadata": {},
   "outputs": [
    {
     "name": "stdout",
     "output_type": "stream",
     "text": [
      "WARNING:tensorflow:From C:\\Anaconda\\envs\\chatbot\\lib\\site-packages\\keras\\backend\\tensorflow_backend.py:1264: calling reduce_prod (from tensorflow.python.ops.math_ops) with keep_dims is deprecated and will be removed in a future version.\n",
      "Instructions for updating:\n",
      "keep_dims is deprecated, use keepdims instead\n"
     ]
    }
   ],
   "source": [
    "bottleneck_model = conv_model()\n",
    "bottleneck_model.trainable = False\n",
    "inp = Input(shape=(105,105,1))\n",
    "features = bottleneck_model(inp)\n",
    "prediction = class_model(features)\n",
    "full_model = Model(inputs=inp, outputs=prediction)"
   ]
  },
  {
   "cell_type": "code",
   "execution_count": 9,
   "metadata": {
    "scrolled": true
   },
   "outputs": [
    {
     "name": "stdout",
     "output_type": "stream",
     "text": [
      "WARNING:tensorflow:From C:\\Anaconda\\envs\\chatbot\\lib\\site-packages\\keras\\backend\\tensorflow_backend.py:2885: calling reduce_sum (from tensorflow.python.ops.math_ops) with keep_dims is deprecated and will be removed in a future version.\n",
      "Instructions for updating:\n",
      "keep_dims is deprecated, use keepdims instead\n",
      "WARNING:tensorflow:From C:\\Anaconda\\envs\\chatbot\\lib\\site-packages\\keras\\backend\\tensorflow_backend.py:1349: calling reduce_mean (from tensorflow.python.ops.math_ops) with keep_dims is deprecated and will be removed in a future version.\n",
      "Instructions for updating:\n",
      "keep_dims is deprecated, use keepdims instead\n"
     ]
    }
   ],
   "source": [
    "adam = Adam()\n",
    "full_model.compile(optimizer=adam,\n",
    "              loss='categorical_crossentropy',\n",
    "              metrics=['accuracy'])"
   ]
  },
  {
   "cell_type": "code",
   "execution_count": 10,
   "metadata": {},
   "outputs": [
    {
     "name": "stdout",
     "output_type": "stream",
     "text": [
      "_________________________________________________________________\n",
      "Layer (type)                 Output Shape              Param #   \n",
      "=================================================================\n",
      "input_2 (InputLayer)         (None, 105, 105, 1)       0         \n",
      "_________________________________________________________________\n",
      "model_1 (Model)              (None, 1, 1, 128)         856768    \n",
      "_________________________________________________________________\n",
      "flatten_1 (Flatten)          (None, 128)               0         \n",
      "_________________________________________________________________\n",
      "batch_normalization_1 (Batch (None, 128)               512       \n",
      "_________________________________________________________________\n",
      "dense_1 (Dense)              (None, 128)               16512     \n",
      "_________________________________________________________________\n",
      "dense_2 (Dense)              (None, 30)                3870      \n",
      "=================================================================\n",
      "Total params: 877,662\n",
      "Trainable params: 20,638\n",
      "Non-trainable params: 857,024\n",
      "_________________________________________________________________\n"
     ]
    }
   ],
   "source": [
    "full_model.summary()"
   ]
  },
  {
   "cell_type": "code",
   "execution_count": 63,
   "metadata": {},
   "outputs": [
    {
     "name": "stdout",
     "output_type": "stream",
     "text": [
      "Train on 17352 samples, validate on 1928 samples\n",
      "Epoch 1/1\n",
      " 5568/17352 [========>.....................] - ETA: 3:50:35 - loss: 3.3718 - acc: 0.06 - ETA: 1:55:37 - loss: 3.3591 - acc: 0.04 - ETA: 1:17:12 - loss: 3.3527 - acc: 0.05 - ETA: 58:00 - loss: 3.3653 - acc: 0.0469 - ETA: 46:28 - loss: 3.3509 - acc: 0.05 - ETA: 38:48 - loss: 3.3291 - acc: 0.05 - ETA: 33:18 - loss: 3.3216 - acc: 0.04 - ETA: 29:11 - loss: 3.3085 - acc: 0.05 - ETA: 25:59 - loss: 3.3021 - acc: 0.05 - ETA: 23:25 - loss: 3.2810 - acc: 0.06 - ETA: 21:19 - loss: 3.2785 - acc: 0.06 - ETA: 19:34 - loss: 3.2547 - acc: 0.06 - ETA: 18:06 - loss: 3.2503 - acc: 0.07 - ETA: 16:50 - loss: 3.2288 - acc: 0.07 - ETA: 15:44 - loss: 3.2130 - acc: 0.08 - ETA: 14:46 - loss: 3.1906 - acc: 0.09 - ETA: 13:55 - loss: 3.1682 - acc: 0.10 - ETA: 13:10 - loss: 3.1490 - acc: 0.10 - ETA: 12:29 - loss: 3.1281 - acc: 0.11 - ETA: 11:53 - loss: 3.1152 - acc: 0.12 - ETA: 11:20 - loss: 3.0994 - acc: 0.12 - ETA: 10:50 - loss: 3.0878 - acc: 0.13 - ETA: 10:22 - loss: 3.0860 - acc: 0.13 - ETA: 9:57 - loss: 3.0709 - acc: 0.1380 - ETA: 9:34 - loss: 3.0522 - acc: 0.147 - ETA: 9:13 - loss: 3.0463 - acc: 0.147 - ETA: 8:53 - loss: 3.0301 - acc: 0.155 - ETA: 8:34 - loss: 3.0179 - acc: 0.157 - ETA: 8:17 - loss: 3.0111 - acc: 0.157 - ETA: 8:01 - loss: 3.0037 - acc: 0.160 - ETA: 7:46 - loss: 2.9945 - acc: 0.163 - ETA: 7:32 - loss: 2.9978 - acc: 0.166 - ETA: 7:19 - loss: 2.9983 - acc: 0.164 - ETA: 7:07 - loss: 2.9868 - acc: 0.167 - ETA: 6:55 - loss: 2.9790 - acc: 0.167 - ETA: 6:44 - loss: 2.9733 - acc: 0.170 - ETA: 6:33 - loss: 2.9673 - acc: 0.171 - ETA: 6:24 - loss: 2.9567 - acc: 0.175 - ETA: 6:14 - loss: 2.9506 - acc: 0.177 - ETA: 6:05 - loss: 2.9411 - acc: 0.183 - ETA: 5:57 - loss: 2.9374 - acc: 0.184 - ETA: 5:49 - loss: 2.9324 - acc: 0.186 - ETA: 5:41 - loss: 2.9213 - acc: 0.189 - ETA: 5:33 - loss: 2.9071 - acc: 0.193 - ETA: 5:26 - loss: 2.9068 - acc: 0.193 - ETA: 5:20 - loss: 2.8952 - acc: 0.197 - ETA: 5:13 - loss: 2.8848 - acc: 0.198 - ETA: 5:07 - loss: 2.8797 - acc: 0.201 - ETA: 5:01 - loss: 2.8769 - acc: 0.202 - ETA: 4:55 - loss: 2.8728 - acc: 0.204 - ETA: 4:50 - loss: 2.8663 - acc: 0.206 - ETA: 4:44 - loss: 2.8592 - acc: 0.206 - ETA: 4:39 - loss: 2.8526 - acc: 0.209 - ETA: 4:34 - loss: 2.8494 - acc: 0.209 - ETA: 4:30 - loss: 2.8446 - acc: 0.210 - ETA: 4:25 - loss: 2.8339 - acc: 0.215 - ETA: 4:21 - loss: 2.8287 - acc: 0.216 - ETA: 4:16 - loss: 2.8223 - acc: 0.218 - ETA: 4:12 - loss: 2.8134 - acc: 0.220 - ETA: 4:08 - loss: 2.8052 - acc: 0.221 - ETA: 4:04 - loss: 2.8004 - acc: 0.222 - ETA: 4:01 - loss: 2.7959 - acc: 0.222 - ETA: 3:57 - loss: 2.7934 - acc: 0.223 - ETA: 3:53 - loss: 2.7897 - acc: 0.224 - ETA: 3:50 - loss: 2.7824 - acc: 0.225 - ETA: 3:47 - loss: 2.7739 - acc: 0.229 - ETA: 3:43 - loss: 2.7680 - acc: 0.230 - ETA: 3:40 - loss: 2.7596 - acc: 0.232 - ETA: 3:37 - loss: 2.7515 - acc: 0.235 - ETA: 3:34 - loss: 2.7460 - acc: 0.236 - ETA: 3:31 - loss: 2.7445 - acc: 0.236 - ETA: 3:29 - loss: 2.7422 - acc: 0.236 - ETA: 3:26 - loss: 2.7339 - acc: 0.237 - ETA: 3:23 - loss: 2.7287 - acc: 0.239 - ETA: 3:21 - loss: 2.7228 - acc: 0.240 - ETA: 3:18 - loss: 2.7220 - acc: 0.241 - ETA: 3:16 - loss: 2.7157 - acc: 0.241 - ETA: 3:13 - loss: 2.7119 - acc: 0.242 - ETA: 3:11 - loss: 2.7060 - acc: 0.244 - ETA: 3:09 - loss: 2.7003 - acc: 0.246 - ETA: 3:06 - loss: 2.6984 - acc: 0.246 - ETA: 3:04 - loss: 2.6958 - acc: 0.246 - ETA: 3:02 - loss: 2.6888 - acc: 0.248 - ETA: 3:00 - loss: 2.6829 - acc: 0.250 - ETA: 2:58 - loss: 2.6762 - acc: 0.252 - ETA: 2:56 - loss: 2.6754 - acc: 0.251 - ETA: 2:54 - loss: 2.6703 - acc: 0.253 - ETA: 2:52 - loss: 2.6647 - acc: 0.254 - ETA: 2:50 - loss: 2.6678 - acc: 0.252 - ETA: 2:49 - loss: 2.6622 - acc: 0.254 - ETA: 2:47 - loss: 2.6556 - acc: 0.256 - ETA: 2:45 - loss: 2.6509 - acc: 0.257 - ETA: 2:43 - loss: 2.6457 - acc: 0.258 - ETA: 2:42 - loss: 2.6425 - acc: 0.258 - ETA: 2:40 - loss: 2.6402 - acc: 0.257 - ETA: 2:38 - loss: 2.6326 - acc: 0.261 - ETA: 2:37 - loss: 2.6305 - acc: 0.261 - ETA: 2:35 - loss: 2.6266 - acc: 0.263 - ETA: 2:34 - loss: 2.6252 - acc: 0.264 - ETA: 2:32 - loss: 2.6181 - acc: 0.265 - ETA: 2:31 - loss: 2.6136 - acc: 0.267 - ETA: 2:29 - loss: 2.6079 - acc: 0.269 - ETA: 2:28 - loss: 2.6006 - acc: 0.270 - ETA: 2:27 - loss: 2.5980 - acc: 0.271 - ETA: 2:25 - loss: 2.5934 - acc: 0.271 - ETA: 2:24 - loss: 2.5912 - acc: 0.271 - ETA: 2:23 - loss: 2.5856 - acc: 0.273 - ETA: 2:21 - loss: 2.5828 - acc: 0.274 - ETA: 2:20 - loss: 2.5793 - acc: 0.273 - ETA: 2:19 - loss: 2.5785 - acc: 0.274 - ETA: 2:18 - loss: 2.5751 - acc: 0.275 - ETA: 2:16 - loss: 2.5713 - acc: 0.275 - ETA: 2:15 - loss: 2.5678 - acc: 0.277 - ETA: 2:14 - loss: 2.5609 - acc: 0.280 - ETA: 2:13 - loss: 2.5540 - acc: 0.282 - ETA: 2:12 - loss: 2.5504 - acc: 0.283 - ETA: 2:11 - loss: 2.5456 - acc: 0.285 - ETA: 2:10 - loss: 2.5421 - acc: 0.286 - ETA: 2:08 - loss: 2.5365 - acc: 0.287 - ETA: 2:07 - loss: 2.5311 - acc: 0.289 - ETA: 2:06 - loss: 2.5290 - acc: 0.289 - ETA: 2:05 - loss: 2.5237 - acc: 0.291 - ETA: 2:04 - loss: 2.5233 - acc: 0.291 - ETA: 2:03 - loss: 2.5180 - acc: 0.293 - ETA: 2:02 - loss: 2.5127 - acc: 0.294 - ETA: 2:01 - loss: 2.5125 - acc: 0.295 - ETA: 2:00 - loss: 2.5068 - acc: 0.296 - ETA: 1:59 - loss: 2.5041 - acc: 0.296 - ETA: 1:58 - loss: 2.5015 - acc: 0.297 - ETA: 1:58 - loss: 2.4973 - acc: 0.299 - ETA: 1:57 - loss: 2.4951 - acc: 0.299 - ETA: 1:56 - loss: 2.4914 - acc: 0.299 - ETA: 1:55 - loss: 2.4889 - acc: 0.300 - ETA: 1:54 - loss: 2.4832 - acc: 0.301 - ETA: 1:53 - loss: 2.4793 - acc: 0.301 - ETA: 1:52 - loss: 2.4769 - acc: 0.303 - ETA: 1:51 - loss: 2.4746 - acc: 0.303 - ETA: 1:51 - loss: 2.4730 - acc: 0.304 - ETA: 1:50 - loss: 2.4679 - acc: 0.305 - ETA: 1:49 - loss: 2.4661 - acc: 0.304 - ETA: 1:48 - loss: 2.4628 - acc: 0.305 - ETA: 1:47 - loss: 2.4594 - acc: 0.306 - ETA: 1:47 - loss: 2.4569 - acc: 0.307 - ETA: 1:46 - loss: 2.4534 - acc: 0.307 - ETA: 1:45 - loss: 2.4484 - acc: 0.308 - ETA: 1:44 - loss: 2.4448 - acc: 0.309 - ETA: 1:44 - loss: 2.4421 - acc: 0.310 - ETA: 1:43 - loss: 2.4404 - acc: 0.310 - ETA: 1:42 - loss: 2.4356 - acc: 0.312 - ETA: 1:41 - loss: 2.4348 - acc: 0.312 - ETA: 1:41 - loss: 2.4300 - acc: 0.314 - ETA: 1:40 - loss: 2.4269 - acc: 0.315 - ETA: 1:39 - loss: 2.4256 - acc: 0.315 - ETA: 1:39 - loss: 2.4222 - acc: 0.316 - ETA: 1:38 - loss: 2.4185 - acc: 0.318 - ETA: 1:37 - loss: 2.4152 - acc: 0.319 - ETA: 1:37 - loss: 2.4123 - acc: 0.321 - ETA: 1:36 - loss: 2.4077 - acc: 0.322 - ETA: 1:35 - loss: 2.4043 - acc: 0.323 - ETA: 1:35 - loss: 2.4038 - acc: 0.323 - ETA: 1:34 - loss: 2.4014 - acc: 0.323 - ETA: 1:33 - loss: 2.3989 - acc: 0.324 - ETA: 1:33 - loss: 2.3947 - acc: 0.324 - ETA: 1:32 - loss: 2.3916 - acc: 0.325 - ETA: 1:32 - loss: 2.3906 - acc: 0.325 - ETA: 1:31 - loss: 2.3891 - acc: 0.325 - ETA: 1:30 - loss: 2.3844 - acc: 0.326 - ETA: 1:30 - loss: 2.3815 - acc: 0.327 - ETA: 1:29 - loss: 2.3771 - acc: 0.329 - ETA: 1:29 - loss: 2.3745 - acc: 0.329 - ETA: 1:28 - loss: 2.3715 - acc: 0.330 - ETA: 1:27 - loss: 2.3674 - acc: 0.331 - ETA: 1:27 - loss: 2.3640 - acc: 0.331 - ETA: 1:26 - loss: 2.3622 - acc: 0.3314"
     ]
    },
    {
     "ename": "KeyboardInterrupt",
     "evalue": "",
     "output_type": "error",
     "traceback": [
      "\u001b[1;31m---------------------------------------------------------------------------\u001b[0m",
      "\u001b[1;31mKeyboardInterrupt\u001b[0m                         Traceback (most recent call last)",
      "\u001b[1;32m<ipython-input-63-395d14835020>\u001b[0m in \u001b[0;36m<module>\u001b[1;34m()\u001b[0m\n\u001b[1;32m----> 1\u001b[1;33m \u001b[0mfull_model\u001b[0m\u001b[1;33m.\u001b[0m\u001b[0mfit\u001b[0m\u001b[1;33m(\u001b[0m\u001b[0mx\u001b[0m\u001b[1;33m=\u001b[0m\u001b[0mimages\u001b[0m\u001b[1;33m,\u001b[0m \u001b[0my\u001b[0m\u001b[1;33m=\u001b[0m\u001b[0menc_main_labels\u001b[0m\u001b[1;33m,\u001b[0m \u001b[0mbatch_size\u001b[0m\u001b[1;33m=\u001b[0m\u001b[1;36m32\u001b[0m\u001b[1;33m,\u001b[0m \u001b[0mepochs\u001b[0m\u001b[1;33m=\u001b[0m\u001b[1;36m1\u001b[0m\u001b[1;33m,\u001b[0m \u001b[0mvalidation_split\u001b[0m\u001b[1;33m=\u001b[0m\u001b[1;36m0.1\u001b[0m\u001b[1;33m)\u001b[0m\u001b[1;33m\u001b[0m\u001b[0m\n\u001b[0m",
      "\u001b[1;32mC:\\Anaconda\\envs\\chatbot\\lib\\site-packages\\keras\\engine\\training.py\u001b[0m in \u001b[0;36mfit\u001b[1;34m(self, x, y, batch_size, epochs, verbose, callbacks, validation_split, validation_data, shuffle, class_weight, sample_weight, initial_epoch, steps_per_epoch, validation_steps, **kwargs)\u001b[0m\n\u001b[0;32m   1655\u001b[0m                               \u001b[0minitial_epoch\u001b[0m\u001b[1;33m=\u001b[0m\u001b[0minitial_epoch\u001b[0m\u001b[1;33m,\u001b[0m\u001b[1;33m\u001b[0m\u001b[0m\n\u001b[0;32m   1656\u001b[0m                               \u001b[0msteps_per_epoch\u001b[0m\u001b[1;33m=\u001b[0m\u001b[0msteps_per_epoch\u001b[0m\u001b[1;33m,\u001b[0m\u001b[1;33m\u001b[0m\u001b[0m\n\u001b[1;32m-> 1657\u001b[1;33m                               validation_steps=validation_steps)\n\u001b[0m\u001b[0;32m   1658\u001b[0m \u001b[1;33m\u001b[0m\u001b[0m\n\u001b[0;32m   1659\u001b[0m     def evaluate(self, x=None, y=None,\n",
      "\u001b[1;32mC:\\Anaconda\\envs\\chatbot\\lib\\site-packages\\keras\\engine\\training.py\u001b[0m in \u001b[0;36m_fit_loop\u001b[1;34m(self, f, ins, out_labels, batch_size, epochs, verbose, callbacks, val_f, val_ins, shuffle, callback_metrics, initial_epoch, steps_per_epoch, validation_steps)\u001b[0m\n\u001b[0;32m   1211\u001b[0m                     \u001b[0mbatch_logs\u001b[0m\u001b[1;33m[\u001b[0m\u001b[1;34m'size'\u001b[0m\u001b[1;33m]\u001b[0m \u001b[1;33m=\u001b[0m \u001b[0mlen\u001b[0m\u001b[1;33m(\u001b[0m\u001b[0mbatch_ids\u001b[0m\u001b[1;33m)\u001b[0m\u001b[1;33m\u001b[0m\u001b[0m\n\u001b[0;32m   1212\u001b[0m                     \u001b[0mcallbacks\u001b[0m\u001b[1;33m.\u001b[0m\u001b[0mon_batch_begin\u001b[0m\u001b[1;33m(\u001b[0m\u001b[0mbatch_index\u001b[0m\u001b[1;33m,\u001b[0m \u001b[0mbatch_logs\u001b[0m\u001b[1;33m)\u001b[0m\u001b[1;33m\u001b[0m\u001b[0m\n\u001b[1;32m-> 1213\u001b[1;33m                     \u001b[0mouts\u001b[0m \u001b[1;33m=\u001b[0m \u001b[0mf\u001b[0m\u001b[1;33m(\u001b[0m\u001b[0mins_batch\u001b[0m\u001b[1;33m)\u001b[0m\u001b[1;33m\u001b[0m\u001b[0m\n\u001b[0m\u001b[0;32m   1214\u001b[0m                     \u001b[1;32mif\u001b[0m \u001b[1;32mnot\u001b[0m \u001b[0misinstance\u001b[0m\u001b[1;33m(\u001b[0m\u001b[0mouts\u001b[0m\u001b[1;33m,\u001b[0m \u001b[0mlist\u001b[0m\u001b[1;33m)\u001b[0m\u001b[1;33m:\u001b[0m\u001b[1;33m\u001b[0m\u001b[0m\n\u001b[0;32m   1215\u001b[0m                         \u001b[0mouts\u001b[0m \u001b[1;33m=\u001b[0m \u001b[1;33m[\u001b[0m\u001b[0mouts\u001b[0m\u001b[1;33m]\u001b[0m\u001b[1;33m\u001b[0m\u001b[0m\n",
      "\u001b[1;32mC:\\Anaconda\\envs\\chatbot\\lib\\site-packages\\keras\\backend\\tensorflow_backend.py\u001b[0m in \u001b[0;36m__call__\u001b[1;34m(self, inputs)\u001b[0m\n\u001b[0;32m   2355\u001b[0m         \u001b[0msession\u001b[0m \u001b[1;33m=\u001b[0m \u001b[0mget_session\u001b[0m\u001b[1;33m(\u001b[0m\u001b[1;33m)\u001b[0m\u001b[1;33m\u001b[0m\u001b[0m\n\u001b[0;32m   2356\u001b[0m         updated = session.run(fetches=fetches, feed_dict=feed_dict,\n\u001b[1;32m-> 2357\u001b[1;33m                               **self.session_kwargs)\n\u001b[0m\u001b[0;32m   2358\u001b[0m         \u001b[1;32mreturn\u001b[0m \u001b[0mupdated\u001b[0m\u001b[1;33m[\u001b[0m\u001b[1;33m:\u001b[0m\u001b[0mlen\u001b[0m\u001b[1;33m(\u001b[0m\u001b[0mself\u001b[0m\u001b[1;33m.\u001b[0m\u001b[0moutputs\u001b[0m\u001b[1;33m)\u001b[0m\u001b[1;33m]\u001b[0m\u001b[1;33m\u001b[0m\u001b[0m\n\u001b[0;32m   2359\u001b[0m \u001b[1;33m\u001b[0m\u001b[0m\n",
      "\u001b[1;32mC:\\Anaconda\\envs\\chatbot\\lib\\site-packages\\tensorflow\\python\\client\\session.py\u001b[0m in \u001b[0;36mrun\u001b[1;34m(self, fetches, feed_dict, options, run_metadata)\u001b[0m\n\u001b[0;32m    903\u001b[0m     \u001b[1;32mtry\u001b[0m\u001b[1;33m:\u001b[0m\u001b[1;33m\u001b[0m\u001b[0m\n\u001b[0;32m    904\u001b[0m       result = self._run(None, fetches, feed_dict, options_ptr,\n\u001b[1;32m--> 905\u001b[1;33m                          run_metadata_ptr)\n\u001b[0m\u001b[0;32m    906\u001b[0m       \u001b[1;32mif\u001b[0m \u001b[0mrun_metadata\u001b[0m\u001b[1;33m:\u001b[0m\u001b[1;33m\u001b[0m\u001b[0m\n\u001b[0;32m    907\u001b[0m         \u001b[0mproto_data\u001b[0m \u001b[1;33m=\u001b[0m \u001b[0mtf_session\u001b[0m\u001b[1;33m.\u001b[0m\u001b[0mTF_GetBuffer\u001b[0m\u001b[1;33m(\u001b[0m\u001b[0mrun_metadata_ptr\u001b[0m\u001b[1;33m)\u001b[0m\u001b[1;33m\u001b[0m\u001b[0m\n",
      "\u001b[1;32mC:\\Anaconda\\envs\\chatbot\\lib\\site-packages\\tensorflow\\python\\client\\session.py\u001b[0m in \u001b[0;36m_run\u001b[1;34m(self, handle, fetches, feed_dict, options, run_metadata)\u001b[0m\n\u001b[0;32m   1135\u001b[0m     \u001b[1;32mif\u001b[0m \u001b[0mfinal_fetches\u001b[0m \u001b[1;32mor\u001b[0m \u001b[0mfinal_targets\u001b[0m \u001b[1;32mor\u001b[0m \u001b[1;33m(\u001b[0m\u001b[0mhandle\u001b[0m \u001b[1;32mand\u001b[0m \u001b[0mfeed_dict_tensor\u001b[0m\u001b[1;33m)\u001b[0m\u001b[1;33m:\u001b[0m\u001b[1;33m\u001b[0m\u001b[0m\n\u001b[0;32m   1136\u001b[0m       results = self._do_run(handle, final_targets, final_fetches,\n\u001b[1;32m-> 1137\u001b[1;33m                              feed_dict_tensor, options, run_metadata)\n\u001b[0m\u001b[0;32m   1138\u001b[0m     \u001b[1;32melse\u001b[0m\u001b[1;33m:\u001b[0m\u001b[1;33m\u001b[0m\u001b[0m\n\u001b[0;32m   1139\u001b[0m       \u001b[0mresults\u001b[0m \u001b[1;33m=\u001b[0m \u001b[1;33m[\u001b[0m\u001b[1;33m]\u001b[0m\u001b[1;33m\u001b[0m\u001b[0m\n",
      "\u001b[1;32mC:\\Anaconda\\envs\\chatbot\\lib\\site-packages\\tensorflow\\python\\client\\session.py\u001b[0m in \u001b[0;36m_do_run\u001b[1;34m(self, handle, target_list, fetch_list, feed_dict, options, run_metadata)\u001b[0m\n\u001b[0;32m   1353\u001b[0m     \u001b[1;32mif\u001b[0m \u001b[0mhandle\u001b[0m \u001b[1;32mis\u001b[0m \u001b[1;32mNone\u001b[0m\u001b[1;33m:\u001b[0m\u001b[1;33m\u001b[0m\u001b[0m\n\u001b[0;32m   1354\u001b[0m       return self._do_call(_run_fn, self._session, feeds, fetches, targets,\n\u001b[1;32m-> 1355\u001b[1;33m                            options, run_metadata)\n\u001b[0m\u001b[0;32m   1356\u001b[0m     \u001b[1;32melse\u001b[0m\u001b[1;33m:\u001b[0m\u001b[1;33m\u001b[0m\u001b[0m\n\u001b[0;32m   1357\u001b[0m       \u001b[1;32mreturn\u001b[0m \u001b[0mself\u001b[0m\u001b[1;33m.\u001b[0m\u001b[0m_do_call\u001b[0m\u001b[1;33m(\u001b[0m\u001b[0m_prun_fn\u001b[0m\u001b[1;33m,\u001b[0m \u001b[0mself\u001b[0m\u001b[1;33m.\u001b[0m\u001b[0m_session\u001b[0m\u001b[1;33m,\u001b[0m \u001b[0mhandle\u001b[0m\u001b[1;33m,\u001b[0m \u001b[0mfeeds\u001b[0m\u001b[1;33m,\u001b[0m \u001b[0mfetches\u001b[0m\u001b[1;33m)\u001b[0m\u001b[1;33m\u001b[0m\u001b[0m\n",
      "\u001b[1;32mC:\\Anaconda\\envs\\chatbot\\lib\\site-packages\\tensorflow\\python\\client\\session.py\u001b[0m in \u001b[0;36m_do_call\u001b[1;34m(self, fn, *args)\u001b[0m\n\u001b[0;32m   1359\u001b[0m   \u001b[1;32mdef\u001b[0m \u001b[0m_do_call\u001b[0m\u001b[1;33m(\u001b[0m\u001b[0mself\u001b[0m\u001b[1;33m,\u001b[0m \u001b[0mfn\u001b[0m\u001b[1;33m,\u001b[0m \u001b[1;33m*\u001b[0m\u001b[0margs\u001b[0m\u001b[1;33m)\u001b[0m\u001b[1;33m:\u001b[0m\u001b[1;33m\u001b[0m\u001b[0m\n\u001b[0;32m   1360\u001b[0m     \u001b[1;32mtry\u001b[0m\u001b[1;33m:\u001b[0m\u001b[1;33m\u001b[0m\u001b[0m\n\u001b[1;32m-> 1361\u001b[1;33m       \u001b[1;32mreturn\u001b[0m \u001b[0mfn\u001b[0m\u001b[1;33m(\u001b[0m\u001b[1;33m*\u001b[0m\u001b[0margs\u001b[0m\u001b[1;33m)\u001b[0m\u001b[1;33m\u001b[0m\u001b[0m\n\u001b[0m\u001b[0;32m   1362\u001b[0m     \u001b[1;32mexcept\u001b[0m \u001b[0merrors\u001b[0m\u001b[1;33m.\u001b[0m\u001b[0mOpError\u001b[0m \u001b[1;32mas\u001b[0m \u001b[0me\u001b[0m\u001b[1;33m:\u001b[0m\u001b[1;33m\u001b[0m\u001b[0m\n\u001b[0;32m   1363\u001b[0m       \u001b[0mmessage\u001b[0m \u001b[1;33m=\u001b[0m \u001b[0mcompat\u001b[0m\u001b[1;33m.\u001b[0m\u001b[0mas_text\u001b[0m\u001b[1;33m(\u001b[0m\u001b[0me\u001b[0m\u001b[1;33m.\u001b[0m\u001b[0mmessage\u001b[0m\u001b[1;33m)\u001b[0m\u001b[1;33m\u001b[0m\u001b[0m\n",
      "\u001b[1;32mC:\\Anaconda\\envs\\chatbot\\lib\\site-packages\\tensorflow\\python\\client\\session.py\u001b[0m in \u001b[0;36m_run_fn\u001b[1;34m(session, feed_dict, fetch_list, target_list, options, run_metadata)\u001b[0m\n\u001b[0;32m   1338\u001b[0m         \u001b[1;32melse\u001b[0m\u001b[1;33m:\u001b[0m\u001b[1;33m\u001b[0m\u001b[0m\n\u001b[0;32m   1339\u001b[0m           return tf_session.TF_Run(session, options, feed_dict, fetch_list,\n\u001b[1;32m-> 1340\u001b[1;33m                                    target_list, status, run_metadata)\n\u001b[0m\u001b[0;32m   1341\u001b[0m \u001b[1;33m\u001b[0m\u001b[0m\n\u001b[0;32m   1342\u001b[0m     \u001b[1;32mdef\u001b[0m \u001b[0m_prun_fn\u001b[0m\u001b[1;33m(\u001b[0m\u001b[0msession\u001b[0m\u001b[1;33m,\u001b[0m \u001b[0mhandle\u001b[0m\u001b[1;33m,\u001b[0m \u001b[0mfeed_dict\u001b[0m\u001b[1;33m,\u001b[0m \u001b[0mfetch_list\u001b[0m\u001b[1;33m)\u001b[0m\u001b[1;33m:\u001b[0m\u001b[1;33m\u001b[0m\u001b[0m\n",
      "\u001b[1;31mKeyboardInterrupt\u001b[0m: "
     ]
    }
   ],
   "source": [
    "full_model.fit(x=images, y=enc_main_labels, batch_size=32, epochs=1, validation_split=0.1)"
   ]
  },
  {
   "cell_type": "code",
   "execution_count": null,
   "metadata": {
    "collapsed": true
   },
   "outputs": [],
   "source": []
  }
 ],
 "metadata": {
  "kernelspec": {
   "display_name": "Python [conda env:chatbot]",
   "language": "python",
   "name": "conda-env-chatbot-py"
  },
  "language_info": {
   "codemirror_mode": {
    "name": "ipython",
    "version": 3
   },
   "file_extension": ".py",
   "mimetype": "text/x-python",
   "name": "python",
   "nbconvert_exporter": "python",
   "pygments_lexer": "ipython3",
   "version": "3.5.3"
  }
 },
 "nbformat": 4,
 "nbformat_minor": 2
}
